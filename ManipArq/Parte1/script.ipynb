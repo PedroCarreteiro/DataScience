{
 "cells": [
  {
   "cell_type": "code",
   "execution_count": 6,
   "id": "07067998",
   "metadata": {},
   "outputs": [],
   "source": [
    "arq1 = open(\"arquivo1.txt\", \"r\")"
   ]
  },
  {
   "cell_type": "code",
   "execution_count": 7,
   "id": "8f9e20ea",
   "metadata": {},
   "outputs": [
    {
     "data": {
      "text/plain": [
       "_io.TextIOWrapper"
      ]
     },
     "execution_count": 7,
     "metadata": {},
     "output_type": "execute_result"
    }
   ],
   "source": [
    "type(arq1)"
   ]
  },
  {
   "cell_type": "code",
   "execution_count": 8,
   "id": "60e426c7",
   "metadata": {},
   "outputs": [
    {
     "name": "stdout",
     "output_type": "stream",
     "text": [
      "A Data Science Academy fornece cursos de alta qualidade e que transmitem muito conhecimento!\n"
     ]
    }
   ],
   "source": [
    "print(arq1.read())"
   ]
  },
  {
   "cell_type": "code",
   "execution_count": 9,
   "id": "7f185d4d",
   "metadata": {},
   "outputs": [
    {
     "name": "stdout",
     "output_type": "stream",
     "text": [
      "92\n"
     ]
    }
   ],
   "source": [
    "#Contar número de caracteres\n",
    "print(arq1.tell())"
   ]
  },
  {
   "cell_type": "code",
   "execution_count": null,
   "id": "ffd812c7",
   "metadata": {},
   "outputs": [
    {
     "name": "stdout",
     "output_type": "stream",
     "text": [
      "0\n"
     ]
    }
   ],
   "source": [
    "#Retornar o cursor para o início do arquivo\n",
    "print(arq1.seek(0,0)) #0 e 0 são as coordenadas"
   ]
  },
  {
   "cell_type": "code",
   "execution_count": null,
   "id": "6b3be00c",
   "metadata": {},
   "outputs": [
    {
     "name": "stdout",
     "output_type": "stream",
     "text": [
      "A Data Science Academy \n"
     ]
    }
   ],
   "source": [
    "#Ler os primeiros caracteres\n",
    "#Ele le os primeiros porque o outro voltou o cursor ao início\n",
    "print(arq1.read(23))"
   ]
  }
 ],
 "metadata": {
  "kernelspec": {
   "display_name": "Python 3",
   "language": "python",
   "name": "python3"
  },
  "language_info": {
   "codemirror_mode": {
    "name": "ipython",
    "version": 3
   },
   "file_extension": ".py",
   "mimetype": "text/x-python",
   "name": "python",
   "nbconvert_exporter": "python",
   "pygments_lexer": "ipython3",
   "version": "3.10.11"
  }
 },
 "nbformat": 4,
 "nbformat_minor": 5
}
